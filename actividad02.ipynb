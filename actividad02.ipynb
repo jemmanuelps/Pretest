{
  "nbformat": 4,
  "nbformat_minor": 0,
  "metadata": {
    "colab": {
      "provenance": [],
      "include_colab_link": true
    },
    "kernelspec": {
      "name": "python3",
      "display_name": "Python 3"
    },
    "language_info": {
      "name": "python"
    }
  },
  "cells": [
    {
      "cell_type": "markdown",
      "metadata": {
        "id": "view-in-github",
        "colab_type": "text"
      },
      "source": [
        "<a href=\"https://colab.research.google.com/github/jemmanuelps/Pretest/blob/main/actividad02.ipynb\" target=\"_parent\"><img src=\"https://colab.research.google.com/assets/colab-badge.svg\" alt=\"Open In Colab\"/></a>"
      ]
    },
    {
      "cell_type": "code",
      "execution_count": null,
      "metadata": {
        "id": "24GqTiYnfRwO"
      },
      "outputs": [],
      "source": [
        "import heapq\n",
        "\n",
        "WALL = \"#\"\n",
        "REAL_COST = 1"
      ]
    },
    {
      "cell_type": "code",
      "source": [
        "# Esta función calcula la distacia de manhattan\n",
        "def cal_manhattan(pos1, pos2):\n",
        "    x1, y1 = pos1\n",
        "    x2, y2 = pos2\n",
        "    return abs(x2 - x1) + abs(y2 - y1)"
      ],
      "metadata": {
        "id": "3boPfTp3fVQD"
      },
      "execution_count": null,
      "outputs": []
    },
    {
      "cell_type": "code",
      "source": [
        "def alg_star(map, pos_robot, goal):\n",
        "    visited = set()\n",
        "    heap = [(0, pos_robot, [])] # definción de la lista de costo, posición y camino    \n",
        "\n",
        "    result = []\n",
        "    collections = []\n",
        "    \n",
        "    # Recursivamente va recorriendo posición por posicón y sus opciones y devuelve solo las opciones con menor coste.\n",
        "    while heap:\n",
        "        (cost, pos, path) = heapq.heappop(heap)\n",
        "        if pos in visited:\n",
        "            continue\n",
        "\n",
        "        visited.add(pos)\n",
        "        if pos == goal:\n",
        "            result = path + [pos]\n",
        "\n",
        "        able_steps = cal_road(map, pos) # posibles pasos que puede dar el robot\n",
        "        prev_const = cal_manhattan(pos, goal)\n",
        "\n",
        "        if pos != pos_robot : # valida que el el costo real no se sume a la posición actual del robot\n",
        "          prev_const += REAL_COST                  \n",
        "\n",
        "        step_cost = []        \n",
        "        for step in able_steps: # recorre cada uno de los posibles pasos del robot para calcular el costo\n",
        "            new_cost = REAL_COST + cal_manhattan(step, goal) # Calcula el costo para este paso del robot\n",
        "            heapq.heappush(heap, (new_cost, step, path + [pos]))\n",
        "            step_cost.append({\n",
        "                \"step\": step,\n",
        "                \"cost\": new_cost\n",
        "            })\n",
        "        \n",
        "        collections.append({\"position\": pos, \"cost\": prev_const, \"options\": step_cost}) \n",
        "\n",
        "    for i in range(len(result)):\n",
        "      step = result[i]\n",
        "      data = next((x for x in collections if x[\"position\"] == step), None)      \n",
        "      print(\"Iteración:\",i+1)\n",
        "      print(f\"Lista Cerrada: (R{step},{data['cost']})\")\n",
        "      print(f\"Lista Abierta:\")    \n",
        "      for option in data['options']:\n",
        "        print(f\"(R{option['step']},{option['cost']})\")    "
      ],
      "metadata": {
        "id": "aPqLPjENfXLt"
      },
      "execution_count": null,
      "outputs": []
    },
    {
      "cell_type": "code",
      "source": [
        "# Esta función calcula (el camino) la lista de obciones para el siguiente paso del robot\n",
        "def cal_road(map, position):\n",
        "    x, y = position\n",
        "    road = [(x - 1, y), (x + 1, y), (x, y - 1), (x, y + 1)]\n",
        "    return [pos for pos in road if valid_step(map, pos)]"
      ],
      "metadata": {
        "id": "YCeS53jkfZ9_"
      },
      "execution_count": null,
      "outputs": []
    },
    {
      "cell_type": "code",
      "source": [
        "# Esta función verifica si la cordenada es un paso valido para el robot en el map\n",
        "def valid_step(map, position):\n",
        "    x, y = position\n",
        "    return 0 <= x < len(map) and 0 <= y < len(map[0]) and map[x][y] != WALL"
      ],
      "metadata": {
        "id": "9i_VTrasfb6I"
      },
      "execution_count": null,
      "outputs": []
    },
    {
      "cell_type": "code",
      "source": [
        "# Esta función mostra la ruta que tomo el robot visualmente\n",
        "def show_path(path,grid): \n",
        "  for step in range(len(path)):\n",
        "    x=path[step][0]\n",
        "    y=path[step][1]\n",
        "    grid[x][y] = \"+\"\n",
        "\n",
        "  for row in range(len(grid)):\n",
        "    print(grid[row])  "
      ],
      "metadata": {
        "id": "nXv56v9yg75o"
      },
      "execution_count": null,
      "outputs": []
    },
    {
      "cell_type": "code",
      "source": [
        "map = [ #Mapa donde se desplazará el robot\n",
        "    ['0', '#', '0', '0'],\n",
        "    ['0', '#', '0', '0'],\n",
        "    ['0', '0', '0', '0'],\n",
        "    ['0', '0', '0', '0']    \n",
        "]"
      ],
      "metadata": {
        "id": "zGhhPe19ffYK"
      },
      "execution_count": null,
      "outputs": []
    },
    {
      "cell_type": "markdown",
      "source": [
        "**PROBLEMA 1**"
      ],
      "metadata": {
        "id": "esaCD2L1nVs8"
      }
    },
    {
      "cell_type": "markdown",
      "source": [
        "1.   Estado Inicial"
      ],
      "metadata": {
        "id": "9hwTO8BOne-y"
      }
    },
    {
      "cell_type": "code",
      "source": [
        "robot = (2, 2)\n",
        "m = (0, 0)\n",
        "alg_star(map, robot, m)"
      ],
      "metadata": {
        "colab": {
          "base_uri": "https://localhost:8080/"
        },
        "id": "t-WcvqvJfSwf",
        "outputId": "0ebc4c8b-125a-4814-cd4f-5fbf6aa9f0cd"
      },
      "execution_count": null,
      "outputs": [
        {
          "output_type": "stream",
          "name": "stdout",
          "text": [
            "Iteración: 1\n",
            "Lista Cerrada: (R(2, 2),4)\n",
            "Lista Abierta:\n",
            "(R(1, 2),4)\n",
            "(R(3, 2),6)\n",
            "(R(2, 1),4)\n",
            "(R(2, 3),6)\n",
            "Iteración: 2\n",
            "Lista Cerrada: (R(2, 1),4)\n",
            "Lista Abierta:\n",
            "(R(3, 1),5)\n",
            "(R(2, 0),3)\n",
            "(R(2, 2),5)\n",
            "Iteración: 3\n",
            "Lista Cerrada: (R(2, 0),3)\n",
            "Lista Abierta:\n",
            "(R(1, 0),2)\n",
            "(R(3, 0),4)\n",
            "(R(2, 1),4)\n",
            "Iteración: 4\n",
            "Lista Cerrada: (R(1, 0),2)\n",
            "Lista Abierta:\n",
            "(R(0, 0),1)\n",
            "(R(2, 0),3)\n",
            "Iteración: 5\n",
            "Lista Cerrada: (R(0, 0),1)\n",
            "Lista Abierta:\n",
            "(R(1, 0),2)\n"
          ]
        }
      ]
    },
    {
      "cell_type": "markdown",
      "source": [
        "2.   Estado Final"
      ],
      "metadata": {
        "id": "_zKAj_PAnzW1"
      }
    },
    {
      "cell_type": "code",
      "source": [
        "robot = (0, 0)\n",
        "g = (3, 3)\n",
        "alg_star(map, robot, g)"
      ],
      "metadata": {
        "colab": {
          "base_uri": "https://localhost:8080/"
        },
        "id": "xvfQ2DNunSsq",
        "outputId": "5fcc0653-f2ca-4bd0-e4c4-7ba86468b845"
      },
      "execution_count": null,
      "outputs": [
        {
          "output_type": "stream",
          "name": "stdout",
          "text": [
            "Iteración: 1\n",
            "Lista Cerrada: (R(0, 0),6)\n",
            "Lista Abierta:\n",
            "(R(1, 0),6)\n",
            "Iteración: 2\n",
            "Lista Cerrada: (R(1, 0),6)\n",
            "Lista Abierta:\n",
            "(R(0, 0),7)\n",
            "(R(2, 0),5)\n",
            "Iteración: 3\n",
            "Lista Cerrada: (R(2, 0),5)\n",
            "Lista Abierta:\n",
            "(R(1, 0),6)\n",
            "(R(3, 0),4)\n",
            "(R(2, 1),4)\n",
            "Iteración: 4\n",
            "Lista Cerrada: (R(2, 1),4)\n",
            "Lista Abierta:\n",
            "(R(3, 1),3)\n",
            "(R(2, 0),5)\n",
            "(R(2, 2),3)\n",
            "Iteración: 5\n",
            "Lista Cerrada: (R(2, 2),3)\n",
            "Lista Abierta:\n",
            "(R(1, 2),4)\n",
            "(R(3, 2),2)\n",
            "(R(2, 1),4)\n",
            "(R(2, 3),2)\n",
            "Iteración: 6\n",
            "Lista Cerrada: (R(2, 3),2)\n",
            "Lista Abierta:\n",
            "(R(1, 3),3)\n",
            "(R(3, 3),1)\n",
            "(R(2, 2),3)\n",
            "Iteración: 7\n",
            "Lista Cerrada: (R(3, 3),1)\n",
            "Lista Abierta:\n",
            "(R(2, 3),2)\n",
            "(R(3, 2),2)\n"
          ]
        }
      ]
    },
    {
      "cell_type": "markdown",
      "source": [
        "**PROBLEMA 2**"
      ],
      "metadata": {
        "id": "MqCMrVpeoLP5"
      }
    },
    {
      "cell_type": "markdown",
      "source": [
        "1.   Estado Inicial"
      ],
      "metadata": {
        "id": "4cECpH2kojdW"
      }
    },
    {
      "cell_type": "code",
      "source": [
        "robot = (2, 2)\n",
        "m = (2, 0)\n",
        "alg_star(map, robot, m)"
      ],
      "metadata": {
        "colab": {
          "base_uri": "https://localhost:8080/"
        },
        "id": "ZbAGhvCYornF",
        "outputId": "34885f19-e721-4edc-ef08-6a61b0d749aa"
      },
      "execution_count": null,
      "outputs": [
        {
          "output_type": "stream",
          "name": "stdout",
          "text": [
            "Iteración: 1\n",
            "Lista Cerrada: (R(2, 2),2)\n",
            "Lista Abierta:\n",
            "(R(1, 2),4)\n",
            "(R(3, 2),4)\n",
            "(R(2, 1),2)\n",
            "(R(2, 3),4)\n",
            "Iteración: 2\n",
            "Lista Cerrada: (R(2, 1),2)\n",
            "Lista Abierta:\n",
            "(R(3, 1),3)\n",
            "(R(2, 0),1)\n",
            "(R(2, 2),3)\n",
            "Iteración: 3\n",
            "Lista Cerrada: (R(2, 0),1)\n",
            "Lista Abierta:\n",
            "(R(1, 0),2)\n",
            "(R(3, 0),2)\n",
            "(R(2, 1),2)\n"
          ]
        }
      ]
    },
    {
      "cell_type": "markdown",
      "source": [
        "2.   Estado Final"
      ],
      "metadata": {
        "id": "WJPRdy80olQz"
      }
    },
    {
      "cell_type": "code",
      "source": [
        "robot = (2, 0)\n",
        "g = (3, 2)\n",
        "alg_star(map, robot, g)"
      ],
      "metadata": {
        "colab": {
          "base_uri": "https://localhost:8080/"
        },
        "id": "05vAi7W3o1s8",
        "outputId": "4703b6ed-c7c1-436f-c951-68c3383f676f"
      },
      "execution_count": null,
      "outputs": [
        {
          "output_type": "stream",
          "name": "stdout",
          "text": [
            "Iteración: 1\n",
            "Lista Cerrada: (R(2, 0),3)\n",
            "Lista Abierta:\n",
            "(R(1, 0),5)\n",
            "(R(3, 0),3)\n",
            "(R(2, 1),3)\n",
            "Iteración: 2\n",
            "Lista Cerrada: (R(2, 1),3)\n",
            "Lista Abierta:\n",
            "(R(3, 1),2)\n",
            "(R(2, 0),4)\n",
            "(R(2, 2),2)\n",
            "Iteración: 3\n",
            "Lista Cerrada: (R(2, 2),2)\n",
            "Lista Abierta:\n",
            "(R(1, 2),3)\n",
            "(R(3, 2),1)\n",
            "(R(2, 1),3)\n",
            "(R(2, 3),3)\n",
            "Iteración: 4\n",
            "Lista Cerrada: (R(3, 2),1)\n",
            "Lista Abierta:\n",
            "(R(2, 2),2)\n",
            "(R(3, 1),2)\n",
            "(R(3, 3),2)\n"
          ]
        }
      ]
    },
    {
      "cell_type": "markdown",
      "source": [
        "**PROBLEMA 3**"
      ],
      "metadata": {
        "id": "hEDslLEqpHUY"
      }
    },
    {
      "cell_type": "markdown",
      "source": [
        "1.   Estado Inicial"
      ],
      "metadata": {
        "id": "f2ZwpgIhpM7j"
      }
    },
    {
      "cell_type": "code",
      "source": [
        "robot = (2, 2)\n",
        "m = (0, 3)\n",
        "alg_star(map, robot, m)"
      ],
      "metadata": {
        "colab": {
          "base_uri": "https://localhost:8080/"
        },
        "id": "sDz0NUbDpcMU",
        "outputId": "662fb48b-7619-492f-8069-25d95ad25632"
      },
      "execution_count": null,
      "outputs": [
        {
          "output_type": "stream",
          "name": "stdout",
          "text": [
            "Iteración: 1\n",
            "Lista Cerrada: (R(2, 2),3)\n",
            "Lista Abierta:\n",
            "(R(1, 2),3)\n",
            "(R(3, 2),5)\n",
            "(R(2, 1),5)\n",
            "(R(2, 3),3)\n",
            "Iteración: 2\n",
            "Lista Cerrada: (R(1, 2),3)\n",
            "Lista Abierta:\n",
            "(R(0, 2),2)\n",
            "(R(2, 2),4)\n",
            "(R(1, 3),2)\n",
            "Iteración: 3\n",
            "Lista Cerrada: (R(0, 2),2)\n",
            "Lista Abierta:\n",
            "(R(1, 2),3)\n",
            "(R(0, 3),1)\n",
            "Iteración: 4\n",
            "Lista Cerrada: (R(0, 3),1)\n",
            "Lista Abierta:\n",
            "(R(1, 3),2)\n",
            "(R(0, 2),2)\n"
          ]
        }
      ]
    },
    {
      "cell_type": "markdown",
      "source": [
        "2.   Estado Final"
      ],
      "metadata": {
        "id": "UU_u-wo0pNFD"
      }
    },
    {
      "cell_type": "code",
      "source": [
        "robot = (2, 2)\n",
        "g = (3, 1)\n",
        "alg_star(map, robot, m)"
      ],
      "metadata": {
        "colab": {
          "base_uri": "https://localhost:8080/"
        },
        "id": "k-IwryyBmm66",
        "outputId": "7ba5615f-2f14-42e4-d8ee-415aa1edc13b"
      },
      "execution_count": null,
      "outputs": [
        {
          "output_type": "stream",
          "name": "stdout",
          "text": [
            "Iteración: 1\n",
            "Lista Cerrada: (R(2, 2),3)\n",
            "Lista Abierta:\n",
            "(R(1, 2),3)\n",
            "(R(3, 2),5)\n",
            "(R(2, 1),5)\n",
            "(R(2, 3),3)\n",
            "Iteración: 2\n",
            "Lista Cerrada: (R(1, 2),3)\n",
            "Lista Abierta:\n",
            "(R(0, 2),2)\n",
            "(R(2, 2),4)\n",
            "(R(1, 3),2)\n",
            "Iteración: 3\n",
            "Lista Cerrada: (R(0, 2),2)\n",
            "Lista Abierta:\n",
            "(R(1, 2),3)\n",
            "(R(0, 3),1)\n",
            "Iteración: 4\n",
            "Lista Cerrada: (R(0, 3),1)\n",
            "Lista Abierta:\n",
            "(R(1, 3),2)\n",
            "(R(0, 2),2)\n"
          ]
        }
      ]
    }
  ]
}